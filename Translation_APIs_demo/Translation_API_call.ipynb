{
 "cells": [
  {
   "cell_type": "markdown",
   "metadata": {},
   "source": [
    "# How to use translation APIs\n",
    "Simple demo codes using translation APIs from Kakao, Naver and Google.\n",
    "\n",
    "- [KAKAO i Translation API](#kakao)\n",
    "    1. [By using API call](#kakao-api)\n",
    "    2. [By using a module](#kakao-module)\n",
    "- [Naver Papago Translation API](#naver)\n",
    "- [Google Translate API](#google)"
   ]
  },
  {
   "cell_type": "code",
   "execution_count": 1,
   "metadata": {},
   "outputs": [],
   "source": [
    "import json\n",
    "with open('../API_keys.json', 'rb') as f:\n",
    "    keys = json.load(f)"
   ]
  },
  {
   "cell_type": "markdown",
   "metadata": {},
   "source": [
    "## KAKAO i Translation API <a class\"anchor\" id=\"kakao\"></a>\n",
    "https://developers.kakao.com/docs/latest/ko/translate/dev-guide#trans-sentence"
   ]
  },
  {
   "cell_type": "markdown",
   "metadata": {},
   "source": [
    "### 1. By using API call <a class\"anchor\" id=\"kakao-api\"></a>"
   ]
  },
  {
   "cell_type": "code",
   "execution_count": 2,
   "metadata": {},
   "outputs": [],
   "source": [
    "import requests\n",
    "import json\n",
    "\n",
    "url = 'https://dapi.kakao.com/v2/translation/translate'\n",
    "headers={ \"Authorization\" : f\"KakaoAK {keys['KAKAO']['REST_API']}\"}\n",
    "data = {\"src_lang\" : \"kr\",\n",
    "       \"target_lang\" : \"en\",\n",
    "       \"query\" : \"안녕하세요? 반갑습니다. 저는 지스트 인공지능 대학원에 재학 중인 남주현입니다. 이 서비스는 인공지능 대학원의 창의자율 프로젝트의 일환으로 만들어졌습니다.\" }\n",
    "\n",
    "response = requests.post(url, headers=headers, data=data)"
   ]
  },
  {
   "cell_type": "code",
   "execution_count": 3,
   "metadata": {},
   "outputs": [
    {
     "output_type": "execute_result",
     "data": {
      "text/plain": [
       "{'translated_text': [[\"How are you? Good to see you. I'm Nam Joo-hyun, a graduate student at Gist Artificial Intelligence. This service was created as part of the Artificial Intelligence Graduate's Creative Self-Project.\"]]}"
      ]
     },
     "metadata": {},
     "execution_count": 3
    }
   ],
   "source": [
    "response.json()"
   ]
  },
  {
   "cell_type": "code",
   "execution_count": 4,
   "metadata": {},
   "outputs": [
    {
     "output_type": "execute_result",
     "data": {
      "text/plain": [
       "['How are you? Good to see you.',\n",
       " \"I'm Nam Joo-hyun, a graduate student at Gist Artificial Intelligence.\",\n",
       " \"This service was created as part of the Artificial Intelligence Graduate's Creative Self-Project..\"]"
      ]
     },
     "metadata": {},
     "execution_count": 4
    }
   ],
   "source": [
    "[s+'.' for s in response.json()['translated_text'][0][0].split('. ')]"
   ]
  },
  {
   "cell_type": "markdown",
   "metadata": {},
   "source": [
    "### 2. By using the module `kakaotrans` <a class\"anchor\" id=\"kakao-module\"></a>"
   ]
  },
  {
   "cell_type": "code",
   "execution_count": 5,
   "metadata": {},
   "outputs": [
    {
     "output_type": "stream",
     "name": "stdout",
     "text": [
      "Defaulting to user installation because normal site-packages is not writeable\n",
      "Requirement already satisfied: kakaotrans in /home/f4_u4/.local/lib/python3.7/site-packages (0.1.2)\n",
      "Requirement already satisfied: requests in /home/super/anaconda3/lib/python3.7/site-packages (from kakaotrans) (2.22.0)\n",
      "Requirement already satisfied: certifi>=2017.4.17 in /home/super/anaconda3/lib/python3.7/site-packages (from requests->kakaotrans) (2019.11.28)\n",
      "Requirement already satisfied: urllib3!=1.25.0,!=1.25.1,<1.26,>=1.21.1 in /home/super/anaconda3/lib/python3.7/site-packages (from requests->kakaotrans) (1.25.8)\n",
      "Requirement already satisfied: chardet<3.1.0,>=3.0.2 in /home/super/anaconda3/lib/python3.7/site-packages (from requests->kakaotrans) (3.0.4)\n",
      "Requirement already satisfied: idna<2.9,>=2.5 in /home/super/anaconda3/lib/python3.7/site-packages (from requests->kakaotrans) (2.8)\n"
     ]
    }
   ],
   "source": [
    "!pip install kakaotrans"
   ]
  },
  {
   "cell_type": "code",
   "execution_count": 6,
   "metadata": {},
   "outputs": [],
   "source": [
    "from kakaotrans import Translator\n",
    "translator = Translator()\n",
    "result = translator.translate(\"안녕하세요? 반갑습니다. 저는 지스트 인공지능 대학원에 재학 중인 남주현입니다. 이 서비스는 인공지능 대학원의 창의자율 프로젝트의 일환으로 만들어졌습니다.\", src='kr', tgt='en')"
   ]
  },
  {
   "cell_type": "code",
   "execution_count": 7,
   "metadata": {},
   "outputs": [
    {
     "output_type": "execute_result",
     "data": {
      "text/plain": [
       "\"How are you? Good to see you. I'm Nam Joo-hyun, a graduate student at Gist Artificial Intelligence. This service was created as part of the Artificial Intelligence Graduate's Creative Self-Project.\""
      ]
     },
     "metadata": {},
     "execution_count": 7
    }
   ],
   "source": [
    "result"
   ]
  },
  {
   "cell_type": "markdown",
   "metadata": {},
   "source": [
    "## Naver Papago Translation API <a class\"anchor\" id=\"naver\"></a>\n",
    "https://developers.naver.com/docs/papago/papago-nmt-api-reference.md"
   ]
  },
  {
   "cell_type": "code",
   "execution_count": 8,
   "metadata": {},
   "outputs": [],
   "source": [
    "import requests\n",
    "import json\n",
    "\n",
    "url = 'https://openapi.naver.com/v1/papago/n2mt'\n",
    "headers = {\"X-Naver-Client-Id\" : keys['NAVER']['ClientID'], \n",
    "           \"X-Naver-Client-Secret\" : keys['NAVER']['ClientSecret']}\n",
    "data = {\"source\" : \"ko\",\n",
    "        \"target\" : \"en\",\n",
    "        \"text\" : \"안녕하세요? 반갑습니다. 저는 지스트 인공지능 대학원에 재학 중인 남주현입니다. 이 서비스는 인공지능 대학원의 창의자율 프로젝트의 일환으로 만들어졌습니다.\"}\n",
    "response = requests.post(url, headers=headers, data=data)"
   ]
  },
  {
   "cell_type": "code",
   "execution_count": 9,
   "metadata": {},
   "outputs": [
    {
     "output_type": "execute_result",
     "data": {
      "text/plain": [
       "{'message': {'@type': 'response',\n",
       "  '@service': 'naverservice.nmt.proxy',\n",
       "  '@version': '1.0.0',\n",
       "  'result': {'srcLangType': 'ko',\n",
       "   'tarLangType': 'en',\n",
       "   'translatedText': \"Hello? Nice to meet you. I'm Nam Joohyun and I'm attending Zist Artificial Intelligence Graduate School. This service was created as part of an AI graduate school's creative autonomy project.\",\n",
       "   'engineType': 'UNDEF_MULTI_SENTENCE',\n",
       "   'pivot': None}}}"
      ]
     },
     "metadata": {},
     "execution_count": 9
    }
   ],
   "source": [
    "response.json()"
   ]
  },
  {
   "cell_type": "code",
   "execution_count": 10,
   "metadata": {},
   "outputs": [
    {
     "output_type": "execute_result",
     "data": {
      "text/plain": [
       "\"Hello? Nice to meet you. I'm Nam Joohyun and I'm attending Zist Artificial Intelligence Graduate School. This service was created as part of an AI graduate school's creative autonomy project.\""
      ]
     },
     "metadata": {},
     "execution_count": 10
    }
   ],
   "source": [
    "response.json()['message']['result']['translatedText']"
   ]
  },
  {
   "cell_type": "markdown",
   "metadata": {},
   "source": [
    "## Google Translate API <a class\"anchor\" id=\"google\"></a>\n",
    "https://pypi.org/project/google-trans-new/"
   ]
  },
  {
   "cell_type": "code",
   "execution_count": 11,
   "metadata": {},
   "outputs": [
    {
     "output_type": "stream",
     "name": "stdout",
     "text": [
      "Defaulting to user installation because normal site-packages is not writeable\n",
      "Requirement already satisfied: google_trans_new in /home/f4_u4/.local/lib/python3.7/site-packages (1.1.9)\n"
     ]
    }
   ],
   "source": [
    "!pip install google_trans_new"
   ]
  },
  {
   "cell_type": "code",
   "execution_count": 12,
   "metadata": {},
   "outputs": [],
   "source": [
    "from google_trans_new import google_translator\n",
    "translator = google_translator()\n",
    "result = translator.translate(\"안녕하세요? 반갑습니다. 저는 지스트 인공지능 대학원에 재학 중인 남주현입니다. 이 서비스는 인공지능 대학원의 창의자율 프로젝트의 일환으로 만들어졌습니다.\", lang_src=\"ko\", lang_tgt=\"en\")"
   ]
  },
  {
   "cell_type": "code",
   "execution_count": 13,
   "metadata": {},
   "outputs": [
    {
     "output_type": "execute_result",
     "data": {
      "text/plain": [
       "'Good morning? nice to meet you. I am the South and the University of Just Artificial Intelligence Graduate School. This service was made as part of the autonomous project of the window of the artificial intelligence graduate. '"
      ]
     },
     "metadata": {},
     "execution_count": 13
    }
   ],
   "source": [
    "result"
   ]
  },
  {
   "cell_type": "code",
   "execution_count": null,
   "metadata": {},
   "outputs": [],
   "source": []
  }
 ],
 "metadata": {
  "kernelspec": {
   "name": "python376jvsc74a57bd09251f796afd04a08579d9f6cb3269d60427cbc216d4034f43c789b3eb0860db3",
   "display_name": "Python 3.7.6 64-bit ('base': conda)"
  },
  "language_info": {
   "codemirror_mode": {
    "name": "ipython",
    "version": 3
   },
   "file_extension": ".py",
   "mimetype": "text/x-python",
   "name": "python",
   "nbconvert_exporter": "python",
   "pygments_lexer": "ipython3",
   "version": "3.7.6"
  }
 },
 "nbformat": 4,
 "nbformat_minor": 4
}